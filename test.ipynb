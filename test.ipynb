{
 "cells": [
  {
   "cell_type": "code",
   "execution_count": 18,
   "metadata": {},
   "outputs": [],
   "source": [
    "from fastapi import FastAPI, Request, HTTPException\n",
    "from fastapi.middleware.cors import CORSMiddleware\n",
    "import json\n",
    "import requests\n",
    "import pandas as pd"
   ]
  },
  {
   "cell_type": "code",
   "execution_count": 19,
   "metadata": {},
   "outputs": [],
   "source": [
    "market_to_url = {\n",
    "    \"tech\": \"https://news.google.com/rss/search?q=when:24h+allinurl:bloomberg.com&hl=en-US&gl=US&ceid=US:en\",\n",
    "}\n",
    "\n",
    "def fetch_xml_data(market: str) -> bytes:\n",
    "    # Get the XML feed URL corresponding to the specified market\n",
    "    xml_url = market_to_url.get(market)\n",
    "\n",
    "    if not xml_url:\n",
    "        raise HTTPException(status_code=404, detail=\"XML feed URL not found for market\")\n",
    "\n",
    "    # Fetch the XML data from the URL\n",
    "    try:\n",
    "        response = requests.get(xml_url)\n",
    "        response.raise_for_status()  # Raise an error for non-200 status codes\n",
    "        return response.content  # Return the raw bytes content of the response\n",
    "    except requests.RequestException as e:\n",
    "        raise HTTPException(status_code=500, detail=f\"Failed to fetch XML data: {str(e)}\")\n"
   ]
  },
  {
   "cell_type": "code",
   "execution_count": 20,
   "metadata": {},
   "outputs": [
    {
     "data": {
      "text/plain": [
       "0     Financials Sector & Industry Performance - Blo...\n",
       "1           Watch Balance of Power 04/05/24 - Bloomberg\n",
       "2     FTSE 100 Live: Halifax UK Home Prices, Pound (...\n",
       "3     Information Technology Sector & Industry Perfo...\n",
       "4     Watch Daybreak: Middle East & Africa 04/05/202...\n",
       "                            ...                        \n",
       "95    US Jobs Roar Again as Payrolls Jump 303000, Un...\n",
       "96    Allianz to Sell Some US Insurance Businesses f...\n",
       "97    100 Days Into Milei's Economic Experiment in A...\n",
       "98    North American Cities Gear Up For A Total Sola...\n",
       "99    Balance of Power: Another Hot Jobs Report - Bl...\n",
       "Name: title, Length: 100, dtype: object"
      ]
     },
     "execution_count": 20,
     "metadata": {},
     "output_type": "execute_result"
    }
   ],
   "source": [
    "strategy = \"activist\"\n",
    "market = \"tech\"\n",
    "\n",
    "xml = fetch_xml_data(market)\n",
    "df = pd.read_xml(xml, xpath=\".//item\")\n",
    "\n",
    "df['title']"
   ]
  },
  {
   "cell_type": "markdown",
   "metadata": {},
   "source": []
  }
 ],
 "metadata": {
  "kernelspec": {
   "display_name": "base",
   "language": "python",
   "name": "python3"
  },
  "language_info": {
   "codemirror_mode": {
    "name": "ipython",
    "version": 3
   },
   "file_extension": ".py",
   "mimetype": "text/x-python",
   "name": "python",
   "nbconvert_exporter": "python",
   "pygments_lexer": "ipython3",
   "version": "3.11.5"
  }
 },
 "nbformat": 4,
 "nbformat_minor": 2
}
